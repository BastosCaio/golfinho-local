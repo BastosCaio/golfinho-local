{
 "cells": [
  {
   "cell_type": "markdown",
   "metadata": {},
   "source": [
    "https://github.com/ageitgey/face_recognition\n",
    "\n",
    "https://medium.com/@sifat777/how-to-perform-face-recognition-on-a-large-collection-of-faces-with-python-884b59a5a3dd"
   ]
  },
  {
   "cell_type": "code",
   "execution_count": 1,
   "metadata": {},
   "outputs": [],
   "source": [
    "car_path = \"../photos/face_photos_user_1/face_image_0.jpg\"\n",
    "car_path1 = \"../photos/face_photos_user_1/face_image_1.jpg\"\n",
    "cab_path = \"../photos/face_photos_user_003/face_image_0.jpg\"\n",
    "cab_path2 = \"../photos/face_photos_user_003/face_image_1.jpg\"\n",
    "cab_path3 = \"../photos/face_photos_user_2/face_image_0.jpg\""
   ]
  },
  {
   "cell_type": "code",
   "execution_count": 4,
   "metadata": {},
   "outputs": [
    {
     "name": "stdout",
     "output_type": "stream",
     "text": [
      "Collecting dlib\n",
      "  Using cached dlib-19.24.6.tar.gz (3.4 MB)\n",
      "  Preparing metadata (setup.py) ... \u001b[?25ldone\n",
      "\u001b[?25hBuilding wheels for collected packages: dlib\n",
      "  Building wheel for dlib (setup.py) ... \u001b[?25lerror\n",
      "  \u001b[1;31merror\u001b[0m: \u001b[1msubprocess-exited-with-error\u001b[0m\n",
      "  \n",
      "  \u001b[31m×\u001b[0m \u001b[32mpython setup.py bdist_wheel\u001b[0m did not run successfully.\n",
      "  \u001b[31m│\u001b[0m exit code: \u001b[1;36m1\u001b[0m\n",
      "  \u001b[31m╰─>\u001b[0m \u001b[31m[112 lines of output]\u001b[0m\n",
      "  \u001b[31m   \u001b[0m /tmp/pip-install-rhkrs0df/dlib_65430b5a6d4e40b6934fccc1f8fa5257/setup.py:234: SyntaxWarning: invalid escape sequence '\\('\n",
      "  \u001b[31m   \u001b[0m   major = re.findall(\"set\\(CPACK_PACKAGE_VERSION_MAJOR.*\\\"(.*)\\\"\", open(cmake_file).read())[0]\n",
      "  \u001b[31m   \u001b[0m /tmp/pip-install-rhkrs0df/dlib_65430b5a6d4e40b6934fccc1f8fa5257/setup.py:235: SyntaxWarning: invalid escape sequence '\\('\n",
      "  \u001b[31m   \u001b[0m   minor = re.findall(\"set\\(CPACK_PACKAGE_VERSION_MINOR.*\\\"(.*)\\\"\", open(cmake_file).read())[0]\n",
      "  \u001b[31m   \u001b[0m /tmp/pip-install-rhkrs0df/dlib_65430b5a6d4e40b6934fccc1f8fa5257/setup.py:236: SyntaxWarning: invalid escape sequence '\\('\n",
      "  \u001b[31m   \u001b[0m   patch = re.findall(\"set\\(CPACK_PACKAGE_VERSION_PATCH.*\\\"(.*)\\\"\", open(cmake_file).read())[0]\n",
      "  \u001b[31m   \u001b[0m running bdist_wheel\n",
      "  \u001b[31m   \u001b[0m running build\n",
      "  \u001b[31m   \u001b[0m running build_ext\n",
      "  \u001b[31m   \u001b[0m Building extension for Python 3.12.9 | packaged by Anaconda, Inc. | (main, Feb  6 2025, 18:56:27) [GCC 11.2.0]\n",
      "  \u001b[31m   \u001b[0m Invoking CMake setup: 'cmake /tmp/pip-install-rhkrs0df/dlib_65430b5a6d4e40b6934fccc1f8fa5257/tools/python -DCMAKE_LIBRARY_OUTPUT_DIRECTORY=/tmp/pip-install-rhkrs0df/dlib_65430b5a6d4e40b6934fccc1f8fa5257/build/lib.linux-x86_64-cpython-312 -DPYTHON_EXECUTABLE=/home/caio/Documentos/git-repos/golfinho/.conda/bin/python -DDLIB_USE_FFMPEG=OFF -DCMAKE_BUILD_TYPE=Release'\n",
      "  \u001b[31m   \u001b[0m \u001b[0mCMake Deprecation Warning at CMakeLists.txt:2 (CMAKE_MINIMUM_REQUIRED):\n",
      "  \u001b[31m   \u001b[0m   Compatibility with CMake < 3.10 will be removed from a future version of\n",
      "  \u001b[31m   \u001b[0m   CMake.\n",
      "  \u001b[31m   \u001b[0m \n",
      "  \u001b[31m   \u001b[0m   Update the VERSION argument <min> value.  Or, use the <min>...<max> syntax\n",
      "  \u001b[31m   \u001b[0m   to tell CMake that the project requires at least <min> but has been updated\n",
      "  \u001b[31m   \u001b[0m   to work with policies introduced by <max> or earlier.\n",
      "  \u001b[31m   \u001b[0m \n",
      "  \u001b[31m   \u001b[0m \u001b[0m\n",
      "  \u001b[31m   \u001b[0m -- The C compiler identification is GNU 9.4.0\n",
      "  \u001b[31m   \u001b[0m -- The CXX compiler identification is unknown\n",
      "  \u001b[31m   \u001b[0m -- Detecting C compiler ABI info\n",
      "  \u001b[31m   \u001b[0m -- Detecting C compiler ABI info - failed\n",
      "  \u001b[31m   \u001b[0m -- Check for working C compiler: /usr/bin/cc\n",
      "  \u001b[31m   \u001b[0m -- Check for working C compiler: /usr/bin/cc - broken\n",
      "  \u001b[31m   \u001b[0m \u001b[31mCMake Error at /home/caio/Documentos/git-repos/golfinho/.conda/lib/python3.12/site-packages/cmake/data/share/cmake-3.31/Modules/CMakeTestCCompiler.cmake:67 (message):\n",
      "  \u001b[31m   \u001b[0m   The C compiler\n",
      "  \u001b[31m   \u001b[0m \n",
      "  \u001b[31m   \u001b[0m     \"/usr/bin/cc\"\n",
      "  \u001b[31m   \u001b[0m \n",
      "  \u001b[31m   \u001b[0m   is not able to compile a simple test program.\n",
      "  \u001b[31m   \u001b[0m \n",
      "  \u001b[31m   \u001b[0m   It fails with the following output:\n",
      "  \u001b[31m   \u001b[0m \n",
      "  \u001b[31m   \u001b[0m     Change Dir: '/tmp/pip-install-rhkrs0df/dlib_65430b5a6d4e40b6934fccc1f8fa5257/build/temp.linux-x86_64-cpython-312/CMakeFiles/CMakeScratch/TryCompile-aP60EZ'\n",
      "  \u001b[31m   \u001b[0m \n",
      "  \u001b[31m   \u001b[0m     Run Build Command(s): /home/caio/Documentos/git-repos/golfinho/.conda/lib/python3.12/site-packages/cmake/data/bin/cmake -E env VERBOSE=1 /usr/bin/make -f Makefile cmTC_b8bf4/fast\n",
      "  \u001b[31m   \u001b[0m     /usr/bin/make  -f CMakeFiles/cmTC_b8bf4.dir/build.make CMakeFiles/cmTC_b8bf4.dir/build\n",
      "  \u001b[31m   \u001b[0m     make[1]: Entrando no diretório '/tmp/pip-install-rhkrs0df/dlib_65430b5a6d4e40b6934fccc1f8fa5257/build/temp.linux-x86_64-cpython-312/CMakeFiles/CMakeScratch/TryCompile-aP60EZ'\n",
      "  \u001b[31m   \u001b[0m     Building C object CMakeFiles/cmTC_b8bf4.dir/testCCompiler.c.o\n",
      "  \u001b[31m   \u001b[0m     /usr/bin/cc    -o CMakeFiles/cmTC_b8bf4.dir/testCCompiler.c.o -c /tmp/pip-install-rhkrs0df/dlib_65430b5a6d4e40b6934fccc1f8fa5257/build/temp.linux-x86_64-cpython-312/CMakeFiles/CMakeScratch/TryCompile-aP60EZ/testCCompiler.c\n",
      "  \u001b[31m   \u001b[0m     Linking C executable cmTC_b8bf4\n",
      "  \u001b[31m   \u001b[0m     /home/caio/Documentos/git-repos/golfinho/.conda/lib/python3.12/site-packages/cmake/data/bin/cmake -E cmake_link_script CMakeFiles/cmTC_b8bf4.dir/link.txt --verbose=1\n",
      "  \u001b[31m   \u001b[0m     /usr/bin/ld: não foi possível localizar Scrt1.o: Arquivo ou diretório inexistente\n",
      "  \u001b[31m   \u001b[0m     /usr/bin/ld: não foi possível localizar crti.o: Arquivo ou diretório inexistente\n",
      "  \u001b[31m   \u001b[0m     collect2: error: ld returned 1 exit status\n",
      "  \u001b[31m   \u001b[0m     /usr/bin/cc CMakeFiles/cmTC_b8bf4.dir/testCCompiler.c.o -o cmTC_b8bf4\n",
      "  \u001b[31m   \u001b[0m     make[1]: *** [CMakeFiles/cmTC_b8bf4.dir/build.make:102: cmTC_b8bf4] Erro 1\n",
      "  \u001b[31m   \u001b[0m     make[1]: Saindo do diretório '/tmp/pip-install-rhkrs0df/dlib_65430b5a6d4e40b6934fccc1f8fa5257/build/temp.linux-x86_64-cpython-312/CMakeFiles/CMakeScratch/TryCompile-aP60EZ'\n",
      "  \u001b[31m   \u001b[0m     make: *** [Makefile:134: cmTC_b8bf4/fast] Erro 2\n",
      "  \u001b[31m   \u001b[0m \n",
      "  \u001b[31m   \u001b[0m \n",
      "  \u001b[31m   \u001b[0m \n",
      "  \u001b[31m   \u001b[0m \n",
      "  \u001b[31m   \u001b[0m \n",
      "  \u001b[31m   \u001b[0m   CMake will not be able to correctly generate this project.\n",
      "  \u001b[31m   \u001b[0m Call Stack (most recent call first):\n",
      "  \u001b[31m   \u001b[0m   CMakeLists.txt:14 (project)\n",
      "  \u001b[31m   \u001b[0m \n",
      "  \u001b[31m   \u001b[0m \u001b[0m\n",
      "  \u001b[31m   \u001b[0m \u001b[31mCMake Error at CMakeLists.txt:14 (project):\n",
      "  \u001b[31m   \u001b[0m   No CMAKE_CXX_COMPILER could be found.\n",
      "  \u001b[31m   \u001b[0m \n",
      "  \u001b[31m   \u001b[0m   Tell CMake where to find the compiler by setting either the environment\n",
      "  \u001b[31m   \u001b[0m   variable \"CXX\" or the CMake cache entry CMAKE_CXX_COMPILER to the full path\n",
      "  \u001b[31m   \u001b[0m   to the compiler, or to the compiler name if it is in the PATH.\n",
      "  \u001b[31m   \u001b[0m \n",
      "  \u001b[31m   \u001b[0m \u001b[0m\n",
      "  \u001b[31m   \u001b[0m -- Configuring incomplete, errors occurred!\n",
      "  \u001b[31m   \u001b[0m Traceback (most recent call last):\n",
      "  \u001b[31m   \u001b[0m   File \"<string>\", line 2, in <module>\n",
      "  \u001b[31m   \u001b[0m   File \"<pip-setuptools-caller>\", line 34, in <module>\n",
      "  \u001b[31m   \u001b[0m   File \"/tmp/pip-install-rhkrs0df/dlib_65430b5a6d4e40b6934fccc1f8fa5257/setup.py\", line 243, in <module>\n",
      "  \u001b[31m   \u001b[0m     setup(\n",
      "  \u001b[31m   \u001b[0m   File \"/home/caio/Documentos/git-repos/golfinho/.conda/lib/python3.12/site-packages/setuptools/__init__.py\", line 117, in setup\n",
      "  \u001b[31m   \u001b[0m     return distutils.core.setup(**attrs)\n",
      "  \u001b[31m   \u001b[0m            ^^^^^^^^^^^^^^^^^^^^^^^^^^^^^\n",
      "  \u001b[31m   \u001b[0m   File \"/home/caio/Documentos/git-repos/golfinho/.conda/lib/python3.12/site-packages/setuptools/_distutils/core.py\", line 186, in setup\n",
      "  \u001b[31m   \u001b[0m     return run_commands(dist)\n",
      "  \u001b[31m   \u001b[0m            ^^^^^^^^^^^^^^^^^^\n",
      "  \u001b[31m   \u001b[0m   File \"/home/caio/Documentos/git-repos/golfinho/.conda/lib/python3.12/site-packages/setuptools/_distutils/core.py\", line 202, in run_commands\n",
      "  \u001b[31m   \u001b[0m     dist.run_commands()\n",
      "  \u001b[31m   \u001b[0m   File \"/home/caio/Documentos/git-repos/golfinho/.conda/lib/python3.12/site-packages/setuptools/_distutils/dist.py\", line 983, in run_commands\n",
      "  \u001b[31m   \u001b[0m     self.run_command(cmd)\n",
      "  \u001b[31m   \u001b[0m   File \"/home/caio/Documentos/git-repos/golfinho/.conda/lib/python3.12/site-packages/setuptools/dist.py\", line 999, in run_command\n",
      "  \u001b[31m   \u001b[0m     super().run_command(command)\n",
      "  \u001b[31m   \u001b[0m   File \"/home/caio/Documentos/git-repos/golfinho/.conda/lib/python3.12/site-packages/setuptools/_distutils/dist.py\", line 1002, in run_command\n",
      "  \u001b[31m   \u001b[0m     cmd_obj.run()\n",
      "  \u001b[31m   \u001b[0m   File \"/home/caio/Documentos/git-repos/golfinho/.conda/lib/python3.12/site-packages/setuptools/command/bdist_wheel.py\", line 379, in run\n",
      "  \u001b[31m   \u001b[0m     self.run_command(\"build\")\n",
      "  \u001b[31m   \u001b[0m   File \"/home/caio/Documentos/git-repos/golfinho/.conda/lib/python3.12/site-packages/setuptools/_distutils/cmd.py\", line 339, in run_command\n",
      "  \u001b[31m   \u001b[0m     self.distribution.run_command(command)\n",
      "  \u001b[31m   \u001b[0m   File \"/home/caio/Documentos/git-repos/golfinho/.conda/lib/python3.12/site-packages/setuptools/dist.py\", line 999, in run_command\n",
      "  \u001b[31m   \u001b[0m     super().run_command(command)\n",
      "  \u001b[31m   \u001b[0m   File \"/home/caio/Documentos/git-repos/golfinho/.conda/lib/python3.12/site-packages/setuptools/_distutils/dist.py\", line 1002, in run_command\n",
      "  \u001b[31m   \u001b[0m     cmd_obj.run()\n",
      "  \u001b[31m   \u001b[0m   File \"/home/caio/Documentos/git-repos/golfinho/.conda/lib/python3.12/site-packages/setuptools/_distutils/command/build.py\", line 136, in run\n",
      "  \u001b[31m   \u001b[0m     self.run_command(cmd_name)\n",
      "  \u001b[31m   \u001b[0m   File \"/home/caio/Documentos/git-repos/golfinho/.conda/lib/python3.12/site-packages/setuptools/_distutils/cmd.py\", line 339, in run_command\n",
      "  \u001b[31m   \u001b[0m     self.distribution.run_command(command)\n",
      "  \u001b[31m   \u001b[0m   File \"/home/caio/Documentos/git-repos/golfinho/.conda/lib/python3.12/site-packages/setuptools/dist.py\", line 999, in run_command\n",
      "  \u001b[31m   \u001b[0m     super().run_command(command)\n",
      "  \u001b[31m   \u001b[0m   File \"/home/caio/Documentos/git-repos/golfinho/.conda/lib/python3.12/site-packages/setuptools/_distutils/dist.py\", line 1002, in run_command\n",
      "  \u001b[31m   \u001b[0m     cmd_obj.run()\n",
      "  \u001b[31m   \u001b[0m   File \"/tmp/pip-install-rhkrs0df/dlib_65430b5a6d4e40b6934fccc1f8fa5257/setup.py\", line 168, in run\n",
      "  \u001b[31m   \u001b[0m     self.build_extension(ext)\n",
      "  \u001b[31m   \u001b[0m   File \"/tmp/pip-install-rhkrs0df/dlib_65430b5a6d4e40b6934fccc1f8fa5257/setup.py\", line 206, in build_extension\n",
      "  \u001b[31m   \u001b[0m     subprocess.check_call(cmake_setup, cwd=build_folder)\n",
      "  \u001b[31m   \u001b[0m   File \"/home/caio/Documentos/git-repos/golfinho/.conda/lib/python3.12/subprocess.py\", line 415, in check_call\n",
      "  \u001b[31m   \u001b[0m     raise CalledProcessError(retcode, cmd)\n",
      "  \u001b[31m   \u001b[0m subprocess.CalledProcessError: Command '['cmake', '/tmp/pip-install-rhkrs0df/dlib_65430b5a6d4e40b6934fccc1f8fa5257/tools/python', '-DCMAKE_LIBRARY_OUTPUT_DIRECTORY=/tmp/pip-install-rhkrs0df/dlib_65430b5a6d4e40b6934fccc1f8fa5257/build/lib.linux-x86_64-cpython-312', '-DPYTHON_EXECUTABLE=/home/caio/Documentos/git-repos/golfinho/.conda/bin/python', '-DDLIB_USE_FFMPEG=OFF', '-DCMAKE_BUILD_TYPE=Release']' returned non-zero exit status 1.\n",
      "  \u001b[31m   \u001b[0m \u001b[31m[end of output]\u001b[0m\n",
      "  \n",
      "  \u001b[1;35mnote\u001b[0m: This error originates from a subprocess, and is likely not a problem with pip.\n",
      "\u001b[31m  ERROR: Failed building wheel for dlib\u001b[0m\u001b[31m\n",
      "\u001b[0m\u001b[?25h  Running setup.py clean for dlib\n",
      "Failed to build dlib\n",
      "\u001b[31mERROR: Failed to build installable wheels for some pyproject.toml based projects (dlib)\u001b[0m\u001b[31m\n",
      "\u001b[0mNote: you may need to restart the kernel to use updated packages.\n"
     ]
    }
   ],
   "source": [
    "pip install dlib"
   ]
  },
  {
   "cell_type": "code",
   "execution_count": 2,
   "metadata": {},
   "outputs": [
    {
     "ename": "ModuleNotFoundError",
     "evalue": "No module named 'face_recognition'",
     "output_type": "error",
     "traceback": [
      "\u001b[0;31m---------------------------------------------------------------------------\u001b[0m",
      "\u001b[0;31mModuleNotFoundError\u001b[0m                       Traceback (most recent call last)",
      "Cell \u001b[0;32mIn[2], line 1\u001b[0m\n\u001b[0;32m----> 1\u001b[0m \u001b[38;5;28;01mimport\u001b[39;00m \u001b[38;5;21;01mface_recognition\u001b[39;00m\n\u001b[1;32m      3\u001b[0m \u001b[38;5;66;03m# Load the known image (e.g., Joe Biden's face)\u001b[39;00m\n\u001b[1;32m      4\u001b[0m known_image \u001b[38;5;241m=\u001b[39m face_recognition\u001b[38;5;241m.\u001b[39mload_image_file(\u001b[38;5;124m\"\u001b[39m\u001b[38;5;124m../face_photos_user_1/face_image_0.jpg\u001b[39m\u001b[38;5;124m\"\u001b[39m)\n",
      "\u001b[0;31mModuleNotFoundError\u001b[0m: No module named 'face_recognition'"
     ]
    }
   ],
   "source": [
    "import face_recognition\n",
    "\n",
    "# Load the known image (e.g., Joe Biden's face)\n",
    "known_image = face_recognition.load_image_file(\"../face_photos_user_1/face_image_0.jpg\")\n",
    "\n",
    "# Obtain embeddings for the known image\n",
    "biden_embeddings = face_recognition.face_encodings(known_image)[0]\n",
    "\n"
   ]
  },
  {
   "cell_type": "code",
   "execution_count": null,
   "metadata": {},
   "outputs": [],
   "source": [
    "# Load the known image (e.g., Joe Biden's face)\n",
    "maikon_image = face_recognition.load_image_file(\"../face_photos_user_1/face_image_1.jpg\")\n",
    "\n",
    "# Obtain embeddings for the known image\n",
    "maikon_embeddings = face_recognition.face_encodings(maikon_image)[0]"
   ]
  },
  {
   "cell_type": "code",
   "execution_count": null,
   "metadata": {},
   "outputs": [],
   "source": [
    "viktor_path = \"../photos/face_photos_user_2/face_image_0.jpg\"\n",
    "# Load the known image (e.g., Joe Biden's face)\n",
    "viktor_image = face_recognition.load_image_file(viktor_path)\n",
    "\n",
    "# Obtain embeddings for the known image\n",
    "viktor_embeddings = face_recognition.face_encodings(viktor_image)[0]\n",
    "\n"
   ]
  },
  {
   "cell_type": "code",
   "execution_count": 3,
   "metadata": {},
   "outputs": [
    {
     "ename": "NameError",
     "evalue": "name 'face_recognition' is not defined",
     "output_type": "error",
     "traceback": [
      "\u001b[0;31m---------------------------------------------------------------------------\u001b[0m",
      "\u001b[0;31mNameError\u001b[0m                                 Traceback (most recent call last)",
      "Cell \u001b[0;32mIn[3], line 1\u001b[0m\n\u001b[0;32m----> 1\u001b[0m results \u001b[38;5;241m=\u001b[39m face_recognition\u001b[38;5;241m.\u001b[39mcompare_faces([biden_embeddings], maikon_embeddings)\n\u001b[1;32m      2\u001b[0m results\n",
      "\u001b[0;31mNameError\u001b[0m: name 'face_recognition' is not defined"
     ]
    }
   ],
   "source": [
    "results = face_recognition.compare_faces([biden_embeddings], maikon_embeddings)\n",
    "results"
   ]
  },
  {
   "cell_type": "code",
   "execution_count": 45,
   "metadata": {},
   "outputs": [
    {
     "data": {
      "text/plain": [
       "[np.False_]"
      ]
     },
     "execution_count": 45,
     "metadata": {},
     "output_type": "execute_result"
    }
   ],
   "source": [
    "results = face_recognition.compare_faces([biden_embeddings], viktor_embeddings)\n",
    "results"
   ]
  },
  {
   "cell_type": "code",
   "execution_count": 65,
   "metadata": {},
   "outputs": [
    {
     "data": {
      "text/plain": [
       "[np.False_]"
      ]
     },
     "execution_count": 65,
     "metadata": {},
     "output_type": "execute_result"
    }
   ],
   "source": [
    "results = face_recognition.compare_faces([maikon_embeddings], viktor_embeddings)\n",
    "results"
   ]
  },
  {
   "cell_type": "code",
   "execution_count": 66,
   "metadata": {},
   "outputs": [],
   "source": [
    "from numpy import dot\n",
    "from numpy.linalg import norm\n",
    "\n",
    "def cosine_similarity(list_1, list_2):\n",
    "  cos_sim = dot(list_1, list_2) / (norm(list_1) * norm(list_2))\n",
    "  return cos_sim"
   ]
  },
  {
   "cell_type": "code",
   "execution_count": 68,
   "metadata": {},
   "outputs": [],
   "source": [
    "import chromadb\n",
    "\n",
    "path = \"../chromadb\"\n",
    "# Choose where to store the database\n",
    "client = chromadb.PersistentClient(path)\n",
    "db = client.get_or_create_collection(\n",
    "    name='facedb',\n",
    "    metadata={\n",
    "        \"hnsw:space\": 'cosine',\n",
    "    },\n",
    ")"
   ]
  },
  {
   "cell_type": "code",
   "execution_count": 48,
   "metadata": {},
   "outputs": [
    {
     "name": "stderr",
     "output_type": "stream",
     "text": [
      "Insert of existing embedding ID: 1\n",
      "Add of existing embedding ID: 1\n"
     ]
    }
   ],
   "source": [
    "db.add(\n",
    "    ids=['1'],\n",
    "    embeddings=[biden_embeddings],  # Replace with your embeddings\n",
    "    metadatas=[{'name': 'maikon'}]\n",
    ")"
   ]
  },
  {
   "cell_type": "code",
   "execution_count": 49,
   "metadata": {},
   "outputs": [],
   "source": [
    "results = db.query(\n",
    "    query_embeddings=[maikon_embeddings],  # Replace with your unknown embeddings\n",
    "    n_results=1\n",
    ")"
   ]
  },
  {
   "cell_type": "code",
   "execution_count": 50,
   "metadata": {},
   "outputs": [
    {
     "data": {
      "text/plain": [
       "{'ids': [['1']],\n",
       " 'embeddings': None,\n",
       " 'documents': [[None]],\n",
       " 'uris': None,\n",
       " 'data': None,\n",
       " 'metadatas': [[{'name': 'maikon'}]],\n",
       " 'distances': [[0.0201188775228478]],\n",
       " 'included': [<IncludeEnum.distances: 'distances'>,\n",
       "  <IncludeEnum.documents: 'documents'>,\n",
       "  <IncludeEnum.metadatas: 'metadatas'>]}"
      ]
     },
     "execution_count": 50,
     "metadata": {},
     "output_type": "execute_result"
    }
   ],
   "source": [
    "results"
   ]
  },
  {
   "cell_type": "code",
   "execution_count": 51,
   "metadata": {},
   "outputs": [],
   "source": [
    "foto1 = \"../face_photos_user_1/face_image_0.jpg\"\n",
    "foto2 = \"../face_photos_user_1/face_image_1.jpg\"\n",
    "foto3 = \"../photos/face_photos_user_2/face_image_0.jpg\"\n",
    "foto4 = \"../photos/face_photos_user_003/face_image_0.jpg\"\n",
    "foto5 = \"../photos/face_photos_user_003/face_image_1.jpg\""
   ]
  },
  {
   "cell_type": "code",
   "execution_count": 58,
   "metadata": {},
   "outputs": [
    {
     "name": "stdout",
     "output_type": "stream",
     "text": [
      "Similar face already exists. If you want to add anyway, set `check_similar` to `False`.\n",
      "Unknown face\n"
     ]
    }
   ],
   "source": [
    "# Import the FaceDB library\n",
    "from facedb import FaceDB\n",
    "\n",
    "# Create a FaceDB instance and specify where to store the database\n",
    "db = FaceDB(\n",
    "    path=\"facedata\",\n",
    ")\n",
    "\n",
    "# Add a new face to the database\n",
    "face_id = db.add(\"Maikon\", img=foto1)\n",
    "\n",
    "# Recognize a face from a new image\n",
    "result = db.recognize(img=foto4)\n",
    "\n",
    "# Check if the recognized face matches the one in the database\n",
    "if result and result[\"id\"] == face_id:\n",
    "    print(\"Recognized as Maikon\")\n",
    "else:\n",
    "    print(\"Unknown face\")"
   ]
  },
  {
   "cell_type": "code",
   "execution_count": null,
   "metadata": {},
   "outputs": [],
   "source": []
  }
 ],
 "metadata": {
  "kernelspec": {
   "display_name": "Python 3",
   "language": "python",
   "name": "python3"
  },
  "language_info": {
   "codemirror_mode": {
    "name": "ipython",
    "version": 3
   },
   "file_extension": ".py",
   "mimetype": "text/x-python",
   "name": "python",
   "nbconvert_exporter": "python",
   "pygments_lexer": "ipython3",
   "version": "3.12.9"
  }
 },
 "nbformat": 4,
 "nbformat_minor": 2
}
